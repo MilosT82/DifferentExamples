{
 "cells": [
  {
   "cell_type": "markdown",
   "metadata": {},
   "source": [
    "# Import Libraries\n",
    "\n",
    "**Import the usual libraries for pandas and plotting."
   ]
  },
  {
   "cell_type": "code",
   "execution_count": 1,
   "metadata": {},
   "outputs": [],
   "source": [
    "import pandas as pd\n",
    "import numpy as np\n",
    "import matplotlib.pyplot as plt\n",
    "import seaborn as sns\n",
    "%matplotlib inline"
   ]
  },
  {
   "cell_type": "markdown",
   "metadata": {},
   "source": [
    "## Get the Data"
   ]
  },
  {
   "cell_type": "code",
   "execution_count": 2,
   "metadata": {},
   "outputs": [],
   "source": [
    "bank=pd.read_csv('Retail data.csv', delimiter=';', skiprows=0, low_memory=False)"
   ]
  },
  {
   "cell_type": "markdown",
   "metadata": {},
   "source": [
    "## Analyzing and preparing dataset for prediction"
   ]
  },
  {
   "cell_type": "markdown",
   "metadata": {},
   "source": [
    "** Check out the info(), head()**"
   ]
  },
  {
   "cell_type": "code",
   "execution_count": 3,
   "metadata": {},
   "outputs": [
    {
     "name": "stdout",
     "output_type": "stream",
     "text": [
      "<class 'pandas.core.frame.DataFrame'>\n",
      "RangeIndex: 23983 entries, 0 to 23982\n",
      "Data columns (total 14 columns):\n",
      "Cocunut                   23983 non-null int64\n",
      "Mortgage_YN               23983 non-null object\n",
      "AGE_AT_ORIGINATION        306 non-null float64\n",
      "AGE                       23983 non-null int64\n",
      "YEARS_WITH_BANK           23983 non-null int64\n",
      "MARTIAL_STATUS            23983 non-null object\n",
      "EDUCATION                 23983 non-null object\n",
      "EMPLOYMENT                23983 non-null object\n",
      "GENDER                    23983 non-null object\n",
      "CUST_INCOME               23983 non-null object\n",
      "CURRENT_ADDRESS_DATE      23983 non-null object\n",
      "CURRENT_JOB_DATE          23983 non-null object\n",
      "CURRENT_WITH_BANK_DATE    23983 non-null object\n",
      "CURRENT_BALANCE_EUR       23983 non-null object\n",
      "dtypes: float64(1), int64(3), object(10)\n",
      "memory usage: 2.6+ MB\n"
     ]
    }
   ],
   "source": [
    "bank.info()"
   ]
  },
  {
   "cell_type": "code",
   "execution_count": 4,
   "metadata": {},
   "outputs": [
    {
     "data": {
      "text/html": [
       "<div>\n",
       "<style scoped>\n",
       "    .dataframe tbody tr th:only-of-type {\n",
       "        vertical-align: middle;\n",
       "    }\n",
       "\n",
       "    .dataframe tbody tr th {\n",
       "        vertical-align: top;\n",
       "    }\n",
       "\n",
       "    .dataframe thead th {\n",
       "        text-align: right;\n",
       "    }\n",
       "</style>\n",
       "<table border=\"1\" class=\"dataframe\">\n",
       "  <thead>\n",
       "    <tr style=\"text-align: right;\">\n",
       "      <th></th>\n",
       "      <th>Cocunut</th>\n",
       "      <th>Mortgage_YN</th>\n",
       "      <th>AGE_AT_ORIGINATION</th>\n",
       "      <th>AGE</th>\n",
       "      <th>YEARS_WITH_BANK</th>\n",
       "      <th>MARTIAL_STATUS</th>\n",
       "      <th>EDUCATION</th>\n",
       "      <th>EMPLOYMENT</th>\n",
       "      <th>GENDER</th>\n",
       "      <th>CUST_INCOME</th>\n",
       "      <th>CURRENT_ADDRESS_DATE</th>\n",
       "      <th>CURRENT_JOB_DATE</th>\n",
       "      <th>CURRENT_WITH_BANK_DATE</th>\n",
       "      <th>CURRENT_BALANCE_EUR</th>\n",
       "    </tr>\n",
       "  </thead>\n",
       "  <tbody>\n",
       "    <tr>\n",
       "      <td>0</td>\n",
       "      <td>1</td>\n",
       "      <td>Y</td>\n",
       "      <td>50.0</td>\n",
       "      <td>52</td>\n",
       "      <td>13</td>\n",
       "      <td>M</td>\n",
       "      <td>HGH</td>\n",
       "      <td>PVE</td>\n",
       "      <td>M</td>\n",
       "      <td>909,5013077</td>\n",
       "      <td>1979-04-18</td>\n",
       "      <td>2010-01-01</td>\n",
       "      <td>2004-03-16</td>\n",
       "      <td>7648,350692</td>\n",
       "    </tr>\n",
       "    <tr>\n",
       "      <td>1</td>\n",
       "      <td>9</td>\n",
       "      <td>Y</td>\n",
       "      <td>48.0</td>\n",
       "      <td>49</td>\n",
       "      <td>11</td>\n",
       "      <td>M</td>\n",
       "      <td>HGH</td>\n",
       "      <td>SFE</td>\n",
       "      <td>M</td>\n",
       "      <td>288,4615385</td>\n",
       "      <td>1999-12-16</td>\n",
       "      <td>2004-01-20</td>\n",
       "      <td>2005-11-07</td>\n",
       "      <td>30189,90492</td>\n",
       "    </tr>\n",
       "    <tr>\n",
       "      <td>2</td>\n",
       "      <td>11</td>\n",
       "      <td>Y</td>\n",
       "      <td>53.0</td>\n",
       "      <td>55</td>\n",
       "      <td>14</td>\n",
       "      <td>M</td>\n",
       "      <td>BCR</td>\n",
       "      <td>STE</td>\n",
       "      <td>M</td>\n",
       "      <td>1280,528692</td>\n",
       "      <td>2005-06-28</td>\n",
       "      <td>1990-09-01</td>\n",
       "      <td>2003-06-25</td>\n",
       "      <td>50553,17454</td>\n",
       "    </tr>\n",
       "    <tr>\n",
       "      <td>3</td>\n",
       "      <td>12</td>\n",
       "      <td>Y</td>\n",
       "      <td>64.0</td>\n",
       "      <td>66</td>\n",
       "      <td>10</td>\n",
       "      <td>M</td>\n",
       "      <td>BCR</td>\n",
       "      <td>OTH</td>\n",
       "      <td>F</td>\n",
       "      <td>620,9597692</td>\n",
       "      <td>2000-12-22</td>\n",
       "      <td>9999-10-01</td>\n",
       "      <td>2006-12-21</td>\n",
       "      <td>15907,28338</td>\n",
       "    </tr>\n",
       "    <tr>\n",
       "      <td>4</td>\n",
       "      <td>18</td>\n",
       "      <td>Y</td>\n",
       "      <td>46.0</td>\n",
       "      <td>47</td>\n",
       "      <td>9</td>\n",
       "      <td>S</td>\n",
       "      <td>MAS</td>\n",
       "      <td>PVE</td>\n",
       "      <td>F</td>\n",
       "      <td>2239,853846</td>\n",
       "      <td>2009-08-01</td>\n",
       "      <td>2013-12-24</td>\n",
       "      <td>2007-08-07</td>\n",
       "      <td>27916,19262</td>\n",
       "    </tr>\n",
       "  </tbody>\n",
       "</table>\n",
       "</div>"
      ],
      "text/plain": [
       "   Cocunut Mortgage_YN  AGE_AT_ORIGINATION  AGE  YEARS_WITH_BANK  \\\n",
       "0        1           Y                50.0   52               13   \n",
       "1        9           Y                48.0   49               11   \n",
       "2       11           Y                53.0   55               14   \n",
       "3       12           Y                64.0   66               10   \n",
       "4       18           Y                46.0   47                9   \n",
       "\n",
       "  MARTIAL_STATUS EDUCATION EMPLOYMENT GENDER  CUST_INCOME  \\\n",
       "0              M       HGH        PVE      M  909,5013077   \n",
       "1              M       HGH        SFE      M  288,4615385   \n",
       "2              M       BCR        STE      M  1280,528692   \n",
       "3              M       BCR        OTH      F  620,9597692   \n",
       "4              S       MAS        PVE      F  2239,853846   \n",
       "\n",
       "  CURRENT_ADDRESS_DATE CURRENT_JOB_DATE CURRENT_WITH_BANK_DATE  \\\n",
       "0           1979-04-18       2010-01-01             2004-03-16   \n",
       "1           1999-12-16       2004-01-20             2005-11-07   \n",
       "2           2005-06-28       1990-09-01             2003-06-25   \n",
       "3           2000-12-22       9999-10-01             2006-12-21   \n",
       "4           2009-08-01       2013-12-24             2007-08-07   \n",
       "\n",
       "  CURRENT_BALANCE_EUR  \n",
       "0         7648,350692  \n",
       "1         30189,90492  \n",
       "2         50553,17454  \n",
       "3         15907,28338  \n",
       "4         27916,19262  "
      ]
     },
     "execution_count": 4,
     "metadata": {},
     "output_type": "execute_result"
    }
   ],
   "source": [
    "bank.head()"
   ]
  },
  {
   "cell_type": "markdown",
   "metadata": {},
   "source": [
    "** Check is there NA values on data.**"
   ]
  },
  {
   "cell_type": "code",
   "execution_count": 5,
   "metadata": {},
   "outputs": [
    {
     "data": {
      "text/plain": [
       "Cocunut                   False\n",
       "Mortgage_YN               False\n",
       "AGE_AT_ORIGINATION         True\n",
       "AGE                       False\n",
       "YEARS_WITH_BANK           False\n",
       "MARTIAL_STATUS            False\n",
       "EDUCATION                 False\n",
       "EMPLOYMENT                False\n",
       "GENDER                    False\n",
       "CUST_INCOME               False\n",
       "CURRENT_ADDRESS_DATE      False\n",
       "CURRENT_JOB_DATE          False\n",
       "CURRENT_WITH_BANK_DATE    False\n",
       "CURRENT_BALANCE_EUR       False\n",
       "dtype: bool"
      ]
     },
     "execution_count": 5,
     "metadata": {},
     "output_type": "execute_result"
    }
   ],
   "source": [
    "bank.isna().any()"
   ]
  },
  {
   "cell_type": "markdown",
   "metadata": {},
   "source": [
    "** Counting NA values on dataset**"
   ]
  },
  {
   "cell_type": "code",
   "execution_count": 6,
   "metadata": {},
   "outputs": [
    {
     "data": {
      "text/plain": [
       "Cocunut                       0\n",
       "Mortgage_YN                   0\n",
       "AGE_AT_ORIGINATION        23677\n",
       "AGE                           0\n",
       "YEARS_WITH_BANK               0\n",
       "MARTIAL_STATUS                0\n",
       "EDUCATION                     0\n",
       "EMPLOYMENT                    0\n",
       "GENDER                        0\n",
       "CUST_INCOME                   0\n",
       "CURRENT_ADDRESS_DATE          0\n",
       "CURRENT_JOB_DATE              0\n",
       "CURRENT_WITH_BANK_DATE        0\n",
       "CURRENT_BALANCE_EUR           0\n",
       "dtype: int64"
      ]
     },
     "execution_count": 6,
     "metadata": {},
     "output_type": "execute_result"
    }
   ],
   "source": [
    "bank.isna().sum()"
   ]
  },
  {
   "cell_type": "markdown",
   "metadata": {},
   "source": [
    "** Removing column \"AGE_AT_ORIGINATION\", because there is a lot of NA values and it is bad for model ** "
   ]
  },
  {
   "cell_type": "markdown",
   "metadata": {},
   "source": [
    "** Defining new dataset \"loans\" without that column **"
   ]
  },
  {
   "cell_type": "code",
   "execution_count": 7,
   "metadata": {},
   "outputs": [],
   "source": [
    "loans=bank.drop(['AGE_AT_ORIGINATION'], axis=1)"
   ]
  },
  {
   "cell_type": "code",
   "execution_count": 8,
   "metadata": {},
   "outputs": [
    {
     "name": "stdout",
     "output_type": "stream",
     "text": [
      "<class 'pandas.core.frame.DataFrame'>\n",
      "RangeIndex: 23983 entries, 0 to 23982\n",
      "Data columns (total 13 columns):\n",
      "Cocunut                   23983 non-null int64\n",
      "Mortgage_YN               23983 non-null object\n",
      "AGE                       23983 non-null int64\n",
      "YEARS_WITH_BANK           23983 non-null int64\n",
      "MARTIAL_STATUS            23983 non-null object\n",
      "EDUCATION                 23983 non-null object\n",
      "EMPLOYMENT                23983 non-null object\n",
      "GENDER                    23983 non-null object\n",
      "CUST_INCOME               23983 non-null object\n",
      "CURRENT_ADDRESS_DATE      23983 non-null object\n",
      "CURRENT_JOB_DATE          23983 non-null object\n",
      "CURRENT_WITH_BANK_DATE    23983 non-null object\n",
      "CURRENT_BALANCE_EUR       23983 non-null object\n",
      "dtypes: int64(3), object(10)\n",
      "memory usage: 2.4+ MB\n"
     ]
    }
   ],
   "source": [
    "loans.info()"
   ]
  },
  {
   "cell_type": "markdown",
   "metadata": {},
   "source": [
    "** Transforming values of variable 'Mortgage_YN', so we could use it, to make a model on this variable **"
   ]
  },
  {
   "cell_type": "code",
   "execution_count": 9,
   "metadata": {},
   "outputs": [
    {
     "data": {
      "text/plain": [
       "N    23677\n",
       "Y      306\n",
       "Name: Mortgage_YN, dtype: int64"
      ]
     },
     "execution_count": 9,
     "metadata": {},
     "output_type": "execute_result"
    }
   ],
   "source": [
    "loans['Mortgage_YN'].value_counts()"
   ]
  },
  {
   "cell_type": "code",
   "execution_count": 10,
   "metadata": {},
   "outputs": [],
   "source": [
    "loans['Mortgage_YN']=loans['Mortgage_YN'].replace({'N': 0, 'Y': 1}).astype(int)"
   ]
  },
  {
   "cell_type": "code",
   "execution_count": 11,
   "metadata": {},
   "outputs": [
    {
     "name": "stdout",
     "output_type": "stream",
     "text": [
      "<class 'pandas.core.frame.DataFrame'>\n",
      "RangeIndex: 23983 entries, 0 to 23982\n",
      "Data columns (total 13 columns):\n",
      "Cocunut                   23983 non-null int64\n",
      "Mortgage_YN               23983 non-null int32\n",
      "AGE                       23983 non-null int64\n",
      "YEARS_WITH_BANK           23983 non-null int64\n",
      "MARTIAL_STATUS            23983 non-null object\n",
      "EDUCATION                 23983 non-null object\n",
      "EMPLOYMENT                23983 non-null object\n",
      "GENDER                    23983 non-null object\n",
      "CUST_INCOME               23983 non-null object\n",
      "CURRENT_ADDRESS_DATE      23983 non-null object\n",
      "CURRENT_JOB_DATE          23983 non-null object\n",
      "CURRENT_WITH_BANK_DATE    23983 non-null object\n",
      "CURRENT_BALANCE_EUR       23983 non-null object\n",
      "dtypes: int32(1), int64(3), object(9)\n",
      "memory usage: 2.3+ MB\n"
     ]
    }
   ],
   "source": [
    "loans.info()"
   ]
  },
  {
   "cell_type": "code",
   "execution_count": 12,
   "metadata": {},
   "outputs": [
    {
     "data": {
      "text/plain": [
       "0    23677\n",
       "1      306\n",
       "Name: Mortgage_YN, dtype: int64"
      ]
     },
     "execution_count": 12,
     "metadata": {},
     "output_type": "execute_result"
    }
   ],
   "source": [
    "loans['Mortgage_YN'].value_counts()"
   ]
  },
  {
   "cell_type": "markdown",
   "metadata": {},
   "source": [
    "** Recoding other variables, so we could use it, to make a model on this variable **"
   ]
  },
  {
   "cell_type": "code",
   "execution_count": 13,
   "metadata": {},
   "outputs": [
    {
     "data": {
      "text/plain": [
       "M          17024\n",
       "S           4223\n",
       "D           1364\n",
       "W           1329\n",
       "*noval*       43\n",
       "Name: MARTIAL_STATUS, dtype: int64"
      ]
     },
     "execution_count": 13,
     "metadata": {},
     "output_type": "execute_result"
    }
   ],
   "source": [
    "loans['MARTIAL_STATUS'].value_counts()"
   ]
  },
  {
   "cell_type": "markdown",
   "metadata": {},
   "source": [
    "** Removing 'noval' from 'MARTIAL STATUS'**"
   ]
  },
  {
   "cell_type": "code",
   "execution_count": 14,
   "metadata": {},
   "outputs": [],
   "source": [
    "loans=loans[(loans['MARTIAL_STATUS'] == 'M') | (loans['MARTIAL_STATUS'] == 'S') | (loans['MARTIAL_STATUS'] == 'D') | (loans['MARTIAL_STATUS'] == 'W')]"
   ]
  },
  {
   "cell_type": "code",
   "execution_count": 15,
   "metadata": {},
   "outputs": [
    {
     "name": "stdout",
     "output_type": "stream",
     "text": [
      "<class 'pandas.core.frame.DataFrame'>\n",
      "Int64Index: 23940 entries, 0 to 23982\n",
      "Data columns (total 13 columns):\n",
      "Cocunut                   23940 non-null int64\n",
      "Mortgage_YN               23940 non-null int32\n",
      "AGE                       23940 non-null int64\n",
      "YEARS_WITH_BANK           23940 non-null int64\n",
      "MARTIAL_STATUS            23940 non-null object\n",
      "EDUCATION                 23940 non-null object\n",
      "EMPLOYMENT                23940 non-null object\n",
      "GENDER                    23940 non-null object\n",
      "CUST_INCOME               23940 non-null object\n",
      "CURRENT_ADDRESS_DATE      23940 non-null object\n",
      "CURRENT_JOB_DATE          23940 non-null object\n",
      "CURRENT_WITH_BANK_DATE    23940 non-null object\n",
      "CURRENT_BALANCE_EUR       23940 non-null object\n",
      "dtypes: int32(1), int64(3), object(9)\n",
      "memory usage: 2.5+ MB\n"
     ]
    }
   ],
   "source": [
    "loans.info()"
   ]
  },
  {
   "cell_type": "code",
   "execution_count": 16,
   "metadata": {},
   "outputs": [],
   "source": [
    "loans['MARTIAL_STATUS']=loans['MARTIAL_STATUS'].replace({'M': 0, 'S': 1, 'D': 2, 'W': 3}).astype(int)"
   ]
  },
  {
   "cell_type": "code",
   "execution_count": 17,
   "metadata": {},
   "outputs": [
    {
     "name": "stdout",
     "output_type": "stream",
     "text": [
      "<class 'pandas.core.frame.DataFrame'>\n",
      "Int64Index: 23940 entries, 0 to 23982\n",
      "Data columns (total 13 columns):\n",
      "Cocunut                   23940 non-null int64\n",
      "Mortgage_YN               23940 non-null int32\n",
      "AGE                       23940 non-null int64\n",
      "YEARS_WITH_BANK           23940 non-null int64\n",
      "MARTIAL_STATUS            23940 non-null int32\n",
      "EDUCATION                 23940 non-null object\n",
      "EMPLOYMENT                23940 non-null object\n",
      "GENDER                    23940 non-null object\n",
      "CUST_INCOME               23940 non-null object\n",
      "CURRENT_ADDRESS_DATE      23940 non-null object\n",
      "CURRENT_JOB_DATE          23940 non-null object\n",
      "CURRENT_WITH_BANK_DATE    23940 non-null object\n",
      "CURRENT_BALANCE_EUR       23940 non-null object\n",
      "dtypes: int32(2), int64(3), object(8)\n",
      "memory usage: 2.4+ MB\n"
     ]
    }
   ],
   "source": [
    "loans.info()"
   ]
  },
  {
   "cell_type": "code",
   "execution_count": 18,
   "metadata": {},
   "outputs": [
    {
     "data": {
      "text/plain": [
       "HGH    15957\n",
       "BCR     6619\n",
       "PRS      633\n",
       "SEC      414\n",
       "MAS      193\n",
       "PHD      117\n",
       "PRI        6\n",
       "OTH        1\n",
       "Name: EDUCATION, dtype: int64"
      ]
     },
     "execution_count": 18,
     "metadata": {},
     "output_type": "execute_result"
    }
   ],
   "source": [
    "loans['EDUCATION'].value_counts()"
   ]
  },
  {
   "cell_type": "code",
   "execution_count": 19,
   "metadata": {},
   "outputs": [],
   "source": [
    "loans['EDUCATION']=loans['EDUCATION'].replace({'HGH': 0, 'BCR': 1, 'PRS': 2, 'SEC': 3, 'MAS': 4, 'PHD':5, 'PRI':6, 'OTH':7}).astype(int)"
   ]
  },
  {
   "cell_type": "code",
   "execution_count": 20,
   "metadata": {},
   "outputs": [
    {
     "data": {
      "text/plain": [
       "PVE    10725\n",
       "STE     6699\n",
       "RET     6096\n",
       "SFE      264\n",
       "OTH      156\n",
       "Name: EMPLOYMENT, dtype: int64"
      ]
     },
     "execution_count": 20,
     "metadata": {},
     "output_type": "execute_result"
    }
   ],
   "source": [
    "loans['EMPLOYMENT'].value_counts()"
   ]
  },
  {
   "cell_type": "code",
   "execution_count": 21,
   "metadata": {},
   "outputs": [],
   "source": [
    "loans['EMPLOYMENT']=loans['EMPLOYMENT'].replace({'PVE': 0, 'STE': 1, 'RET': 2, 'SFE': 3, 'OTH':4}).astype(int)"
   ]
  },
  {
   "cell_type": "code",
   "execution_count": 22,
   "metadata": {},
   "outputs": [
    {
     "data": {
      "text/plain": [
       "F    12073\n",
       "M    11867\n",
       "Name: GENDER, dtype: int64"
      ]
     },
     "execution_count": 22,
     "metadata": {},
     "output_type": "execute_result"
    }
   ],
   "source": [
    "loans['GENDER'].value_counts()"
   ]
  },
  {
   "cell_type": "code",
   "execution_count": 23,
   "metadata": {},
   "outputs": [],
   "source": [
    "loans['GENDER']=loans['GENDER'].replace({'F': 0, 'M': 1}).astype(int)"
   ]
  },
  {
   "cell_type": "code",
   "execution_count": 24,
   "metadata": {},
   "outputs": [],
   "source": [
    "loans['CUST_INCOME']=loans['CUST_INCOME'].apply(lambda x: x.replace(',', '.')).astype('float')"
   ]
  },
  {
   "cell_type": "code",
   "execution_count": 25,
   "metadata": {},
   "outputs": [],
   "source": [
    "loans['CURRENT_BALANCE_EUR']=loans['CURRENT_BALANCE_EUR'].apply(lambda x: x.replace(',', '.')).astype('float')"
   ]
  },
  {
   "cell_type": "code",
   "execution_count": 26,
   "metadata": {},
   "outputs": [
    {
     "data": {
      "text/html": [
       "<div>\n",
       "<style scoped>\n",
       "    .dataframe tbody tr th:only-of-type {\n",
       "        vertical-align: middle;\n",
       "    }\n",
       "\n",
       "    .dataframe tbody tr th {\n",
       "        vertical-align: top;\n",
       "    }\n",
       "\n",
       "    .dataframe thead th {\n",
       "        text-align: right;\n",
       "    }\n",
       "</style>\n",
       "<table border=\"1\" class=\"dataframe\">\n",
       "  <thead>\n",
       "    <tr style=\"text-align: right;\">\n",
       "      <th></th>\n",
       "      <th>Cocunut</th>\n",
       "      <th>Mortgage_YN</th>\n",
       "      <th>AGE</th>\n",
       "      <th>YEARS_WITH_BANK</th>\n",
       "      <th>MARTIAL_STATUS</th>\n",
       "      <th>EDUCATION</th>\n",
       "      <th>EMPLOYMENT</th>\n",
       "      <th>GENDER</th>\n",
       "      <th>CUST_INCOME</th>\n",
       "      <th>CURRENT_ADDRESS_DATE</th>\n",
       "      <th>CURRENT_JOB_DATE</th>\n",
       "      <th>CURRENT_WITH_BANK_DATE</th>\n",
       "      <th>CURRENT_BALANCE_EUR</th>\n",
       "    </tr>\n",
       "  </thead>\n",
       "  <tbody>\n",
       "    <tr>\n",
       "      <td>23978</td>\n",
       "      <td>79979</td>\n",
       "      <td>0</td>\n",
       "      <td>67</td>\n",
       "      <td>3</td>\n",
       "      <td>0</td>\n",
       "      <td>1</td>\n",
       "      <td>2</td>\n",
       "      <td>1</td>\n",
       "      <td>179.216308</td>\n",
       "      <td>1999-03-10</td>\n",
       "      <td>9999-10-01</td>\n",
       "      <td>2014-06-02</td>\n",
       "      <td>781.190000</td>\n",
       "    </tr>\n",
       "    <tr>\n",
       "      <td>23979</td>\n",
       "      <td>79982</td>\n",
       "      <td>0</td>\n",
       "      <td>59</td>\n",
       "      <td>13</td>\n",
       "      <td>0</td>\n",
       "      <td>0</td>\n",
       "      <td>0</td>\n",
       "      <td>0</td>\n",
       "      <td>690.095154</td>\n",
       "      <td>1997-01-01</td>\n",
       "      <td>2004-01-01</td>\n",
       "      <td>2004-01-12</td>\n",
       "      <td>13716.366380</td>\n",
       "    </tr>\n",
       "    <tr>\n",
       "      <td>23980</td>\n",
       "      <td>79983</td>\n",
       "      <td>0</td>\n",
       "      <td>68</td>\n",
       "      <td>7</td>\n",
       "      <td>3</td>\n",
       "      <td>2</td>\n",
       "      <td>2</td>\n",
       "      <td>1</td>\n",
       "      <td>255.949846</td>\n",
       "      <td>1949-10-27</td>\n",
       "      <td>9999-10-01</td>\n",
       "      <td>2009-12-01</td>\n",
       "      <td>1066.280000</td>\n",
       "    </tr>\n",
       "    <tr>\n",
       "      <td>23981</td>\n",
       "      <td>79985</td>\n",
       "      <td>0</td>\n",
       "      <td>59</td>\n",
       "      <td>2</td>\n",
       "      <td>0</td>\n",
       "      <td>1</td>\n",
       "      <td>1</td>\n",
       "      <td>1</td>\n",
       "      <td>459.323077</td>\n",
       "      <td>2003-04-01</td>\n",
       "      <td>2008-09-24</td>\n",
       "      <td>2015-04-23</td>\n",
       "      <td>4577.400385</td>\n",
       "    </tr>\n",
       "    <tr>\n",
       "      <td>23982</td>\n",
       "      <td>79998</td>\n",
       "      <td>0</td>\n",
       "      <td>47</td>\n",
       "      <td>1</td>\n",
       "      <td>0</td>\n",
       "      <td>0</td>\n",
       "      <td>1</td>\n",
       "      <td>0</td>\n",
       "      <td>528.769231</td>\n",
       "      <td>2010-01-01</td>\n",
       "      <td>2005-03-23</td>\n",
       "      <td>2016-06-06</td>\n",
       "      <td>2307.692308</td>\n",
       "    </tr>\n",
       "  </tbody>\n",
       "</table>\n",
       "</div>"
      ],
      "text/plain": [
       "       Cocunut  Mortgage_YN  AGE  YEARS_WITH_BANK  MARTIAL_STATUS  EDUCATION  \\\n",
       "23978    79979            0   67                3               0          1   \n",
       "23979    79982            0   59               13               0          0   \n",
       "23980    79983            0   68                7               3          2   \n",
       "23981    79985            0   59                2               0          1   \n",
       "23982    79998            0   47                1               0          0   \n",
       "\n",
       "       EMPLOYMENT  GENDER  CUST_INCOME CURRENT_ADDRESS_DATE CURRENT_JOB_DATE  \\\n",
       "23978           2       1   179.216308           1999-03-10       9999-10-01   \n",
       "23979           0       0   690.095154           1997-01-01       2004-01-01   \n",
       "23980           2       1   255.949846           1949-10-27       9999-10-01   \n",
       "23981           1       1   459.323077           2003-04-01       2008-09-24   \n",
       "23982           1       0   528.769231           2010-01-01       2005-03-23   \n",
       "\n",
       "      CURRENT_WITH_BANK_DATE  CURRENT_BALANCE_EUR  \n",
       "23978             2014-06-02           781.190000  \n",
       "23979             2004-01-12         13716.366380  \n",
       "23980             2009-12-01          1066.280000  \n",
       "23981             2015-04-23          4577.400385  \n",
       "23982             2016-06-06          2307.692308  "
      ]
     },
     "execution_count": 26,
     "metadata": {},
     "output_type": "execute_result"
    }
   ],
   "source": [
    "loans.tail()"
   ]
  },
  {
   "cell_type": "code",
   "execution_count": 27,
   "metadata": {},
   "outputs": [
    {
     "data": {
      "text/plain": [
       "Cocunut                   0\n",
       "Mortgage_YN               0\n",
       "AGE                       0\n",
       "YEARS_WITH_BANK           0\n",
       "MARTIAL_STATUS            0\n",
       "EDUCATION                 0\n",
       "EMPLOYMENT                0\n",
       "GENDER                    0\n",
       "CUST_INCOME               0\n",
       "CURRENT_ADDRESS_DATE      0\n",
       "CURRENT_JOB_DATE          0\n",
       "CURRENT_WITH_BANK_DATE    0\n",
       "CURRENT_BALANCE_EUR       0\n",
       "dtype: int64"
      ]
     },
     "execution_count": 27,
     "metadata": {},
     "output_type": "execute_result"
    }
   ],
   "source": [
    "loans.isna().sum()"
   ]
  },
  {
   "cell_type": "markdown",
   "metadata": {},
   "source": [
    "## Categorical Features"
   ]
  },
  {
   "cell_type": "code",
   "execution_count": 28,
   "metadata": {},
   "outputs": [
    {
     "name": "stdout",
     "output_type": "stream",
     "text": [
      "<class 'pandas.core.frame.DataFrame'>\n",
      "Int64Index: 23940 entries, 0 to 23982\n",
      "Data columns (total 13 columns):\n",
      "Cocunut                   23940 non-null int64\n",
      "Mortgage_YN               23940 non-null int32\n",
      "AGE                       23940 non-null int64\n",
      "YEARS_WITH_BANK           23940 non-null int64\n",
      "MARTIAL_STATUS            23940 non-null int32\n",
      "EDUCATION                 23940 non-null int32\n",
      "EMPLOYMENT                23940 non-null int32\n",
      "GENDER                    23940 non-null int32\n",
      "CUST_INCOME               23940 non-null float64\n",
      "CURRENT_ADDRESS_DATE      23940 non-null object\n",
      "CURRENT_JOB_DATE          23940 non-null object\n",
      "CURRENT_WITH_BANK_DATE    23940 non-null object\n",
      "CURRENT_BALANCE_EUR       23940 non-null float64\n",
      "dtypes: float64(2), int32(5), int64(3), object(3)\n",
      "memory usage: 2.1+ MB\n"
     ]
    }
   ],
   "source": [
    "loans.info()"
   ]
  },
  {
   "cell_type": "markdown",
   "metadata": {},
   "source": [
    "** Delete date variables, so we can use sklearn **"
   ]
  },
  {
   "cell_type": "code",
   "execution_count": 29,
   "metadata": {},
   "outputs": [
    {
     "name": "stdout",
     "output_type": "stream",
     "text": [
      "<class 'pandas.core.frame.DataFrame'>\n",
      "Int64Index: 23940 entries, 0 to 23982\n",
      "Data columns (total 10 columns):\n",
      "Cocunut                23940 non-null int64\n",
      "Mortgage_YN            23940 non-null int32\n",
      "AGE                    23940 non-null int64\n",
      "YEARS_WITH_BANK        23940 non-null int64\n",
      "MARTIAL_STATUS         23940 non-null int32\n",
      "EDUCATION              23940 non-null int32\n",
      "EMPLOYMENT             23940 non-null int32\n",
      "GENDER                 23940 non-null int32\n",
      "CUST_INCOME            23940 non-null float64\n",
      "CURRENT_BALANCE_EUR    23940 non-null float64\n",
      "dtypes: float64(2), int32(5), int64(3)\n",
      "memory usage: 1.6 MB\n"
     ]
    }
   ],
   "source": [
    "loans2=loans.drop(['CURRENT_WITH_BANK_DATE','CURRENT_JOB_DATE','CURRENT_ADDRESS_DATE'], axis=1)\n",
    "loans2.info()"
   ]
  },
  {
   "cell_type": "markdown",
   "metadata": {},
   "source": [
    "** Delete date variables, so we can use sklearn **"
   ]
  },
  {
   "cell_type": "code",
   "execution_count": 30,
   "metadata": {
    "scrolled": true
   },
   "outputs": [
    {
     "data": {
      "text/html": [
       "<div>\n",
       "<style scoped>\n",
       "    .dataframe tbody tr th:only-of-type {\n",
       "        vertical-align: middle;\n",
       "    }\n",
       "\n",
       "    .dataframe tbody tr th {\n",
       "        vertical-align: top;\n",
       "    }\n",
       "\n",
       "    .dataframe thead th {\n",
       "        text-align: right;\n",
       "    }\n",
       "</style>\n",
       "<table border=\"1\" class=\"dataframe\">\n",
       "  <thead>\n",
       "    <tr style=\"text-align: right;\">\n",
       "      <th></th>\n",
       "      <th>Cocunut</th>\n",
       "      <th>Mortgage_YN</th>\n",
       "      <th>AGE</th>\n",
       "      <th>YEARS_WITH_BANK</th>\n",
       "      <th>MARTIAL_STATUS</th>\n",
       "      <th>EDUCATION</th>\n",
       "      <th>EMPLOYMENT</th>\n",
       "      <th>GENDER</th>\n",
       "      <th>CUST_INCOME</th>\n",
       "      <th>CURRENT_BALANCE_EUR</th>\n",
       "    </tr>\n",
       "  </thead>\n",
       "  <tbody>\n",
       "    <tr>\n",
       "      <td>0</td>\n",
       "      <td>1</td>\n",
       "      <td>1</td>\n",
       "      <td>52</td>\n",
       "      <td>13</td>\n",
       "      <td>0</td>\n",
       "      <td>0</td>\n",
       "      <td>0</td>\n",
       "      <td>1</td>\n",
       "      <td>909.501308</td>\n",
       "      <td>7648.350692</td>\n",
       "    </tr>\n",
       "    <tr>\n",
       "      <td>1</td>\n",
       "      <td>9</td>\n",
       "      <td>1</td>\n",
       "      <td>49</td>\n",
       "      <td>11</td>\n",
       "      <td>0</td>\n",
       "      <td>0</td>\n",
       "      <td>3</td>\n",
       "      <td>1</td>\n",
       "      <td>288.461539</td>\n",
       "      <td>30189.904920</td>\n",
       "    </tr>\n",
       "    <tr>\n",
       "      <td>2</td>\n",
       "      <td>11</td>\n",
       "      <td>1</td>\n",
       "      <td>55</td>\n",
       "      <td>14</td>\n",
       "      <td>0</td>\n",
       "      <td>1</td>\n",
       "      <td>1</td>\n",
       "      <td>1</td>\n",
       "      <td>1280.528692</td>\n",
       "      <td>50553.174540</td>\n",
       "    </tr>\n",
       "    <tr>\n",
       "      <td>3</td>\n",
       "      <td>12</td>\n",
       "      <td>1</td>\n",
       "      <td>66</td>\n",
       "      <td>10</td>\n",
       "      <td>0</td>\n",
       "      <td>1</td>\n",
       "      <td>4</td>\n",
       "      <td>0</td>\n",
       "      <td>620.959769</td>\n",
       "      <td>15907.283380</td>\n",
       "    </tr>\n",
       "    <tr>\n",
       "      <td>4</td>\n",
       "      <td>18</td>\n",
       "      <td>1</td>\n",
       "      <td>47</td>\n",
       "      <td>9</td>\n",
       "      <td>1</td>\n",
       "      <td>4</td>\n",
       "      <td>0</td>\n",
       "      <td>0</td>\n",
       "      <td>2239.853846</td>\n",
       "      <td>27916.192620</td>\n",
       "    </tr>\n",
       "  </tbody>\n",
       "</table>\n",
       "</div>"
      ],
      "text/plain": [
       "   Cocunut  Mortgage_YN  AGE  YEARS_WITH_BANK  MARTIAL_STATUS  EDUCATION  \\\n",
       "0        1            1   52               13               0          0   \n",
       "1        9            1   49               11               0          0   \n",
       "2       11            1   55               14               0          1   \n",
       "3       12            1   66               10               0          1   \n",
       "4       18            1   47                9               1          4   \n",
       "\n",
       "   EMPLOYMENT  GENDER  CUST_INCOME  CURRENT_BALANCE_EUR  \n",
       "0           0       1   909.501308          7648.350692  \n",
       "1           3       1   288.461539         30189.904920  \n",
       "2           1       1  1280.528692         50553.174540  \n",
       "3           4       0   620.959769         15907.283380  \n",
       "4           0       0  2239.853846         27916.192620  "
      ]
     },
     "execution_count": 30,
     "metadata": {},
     "output_type": "execute_result"
    }
   ],
   "source": [
    "loans2.head()"
   ]
  },
  {
   "cell_type": "code",
   "execution_count": 31,
   "metadata": {},
   "outputs": [
    {
     "data": {
      "text/plain": [
       "0    23636\n",
       "1      304\n",
       "Name: Mortgage_YN, dtype: int64"
      ]
     },
     "execution_count": 31,
     "metadata": {},
     "output_type": "execute_result"
    }
   ],
   "source": [
    "loans2['Mortgage_YN'].value_counts()"
   ]
  },
  {
   "cell_type": "markdown",
   "metadata": {},
   "source": [
    "## Train Test Split\n",
    "\n",
    "Now its time to split our data into a training set and a testing set!"
   ]
  },
  {
   "cell_type": "code",
   "execution_count": 32,
   "metadata": {},
   "outputs": [],
   "source": [
    "from sklearn.model_selection import train_test_split"
   ]
  },
  {
   "cell_type": "code",
   "execution_count": 33,
   "metadata": {},
   "outputs": [],
   "source": [
    "X = loans2.drop('Mortgage_YN',axis=1)\n",
    "y = loans2['Mortgage_YN']\n",
    "X_train, X_test, y_train, y_test = train_test_split(X, y, test_size=0.05, random_state=42)"
   ]
  },
  {
   "cell_type": "markdown",
   "metadata": {},
   "source": [
    "## Training a Decision Tree Model\n",
    "\n",
    "Let's start by training a single decision tree first!\n",
    "\n",
    "** Import DecisionTreeClassifier**"
   ]
  },
  {
   "cell_type": "code",
   "execution_count": 34,
   "metadata": {},
   "outputs": [],
   "source": [
    "from sklearn.tree import DecisionTreeClassifier"
   ]
  },
  {
   "cell_type": "markdown",
   "metadata": {},
   "source": [
    "**Create an instance of DecisionTreeClassifier() called dtree and fit it to the training data.**"
   ]
  },
  {
   "cell_type": "code",
   "execution_count": 35,
   "metadata": {},
   "outputs": [],
   "source": [
    "dtree = DecisionTreeClassifier()"
   ]
  },
  {
   "cell_type": "code",
   "execution_count": 36,
   "metadata": {},
   "outputs": [
    {
     "data": {
      "text/plain": [
       "DecisionTreeClassifier()"
      ]
     },
     "execution_count": 36,
     "metadata": {},
     "output_type": "execute_result"
    }
   ],
   "source": [
    "dtree.fit(X_train,y_train)"
   ]
  },
  {
   "cell_type": "markdown",
   "metadata": {},
   "source": [
    "## Predictions and Evaluation of Decision Tree\n",
    "**Create predictions from the test set and create a classification report and a confusion matrix.**"
   ]
  },
  {
   "cell_type": "code",
   "execution_count": 37,
   "metadata": {},
   "outputs": [],
   "source": [
    "predictions = dtree.predict(X_test)"
   ]
  },
  {
   "cell_type": "code",
   "execution_count": 38,
   "metadata": {},
   "outputs": [],
   "source": [
    "from sklearn.metrics import classification_report,confusion_matrix"
   ]
  },
  {
   "cell_type": "code",
   "execution_count": 39,
   "metadata": {},
   "outputs": [
    {
     "name": "stdout",
     "output_type": "stream",
     "text": [
      "              precision    recall  f1-score   support\n",
      "\n",
      "           0       1.00      1.00      1.00      1182\n",
      "           1       1.00      1.00      1.00        15\n",
      "\n",
      "    accuracy                           1.00      1197\n",
      "   macro avg       1.00      1.00      1.00      1197\n",
      "weighted avg       1.00      1.00      1.00      1197\n",
      "\n"
     ]
    }
   ],
   "source": [
    "print(classification_report(y_test,predictions))"
   ]
  },
  {
   "cell_type": "code",
   "execution_count": 40,
   "metadata": {},
   "outputs": [
    {
     "name": "stdout",
     "output_type": "stream",
     "text": [
      "[[1182    0]\n",
      " [   0   15]]\n"
     ]
    }
   ],
   "source": [
    "print(confusion_matrix(y_test,predictions))"
   ]
  },
  {
   "cell_type": "markdown",
   "metadata": {},
   "source": [
    "## Training the Random Forest model\n",
    "\n",
    "Now its time to train our model!\n",
    "\n",
    "**Create an instance of the RandomForestClassifier class and fit it to our training data from the previous step.**"
   ]
  },
  {
   "cell_type": "code",
   "execution_count": 41,
   "metadata": {},
   "outputs": [],
   "source": [
    "from sklearn.ensemble import RandomForestClassifier"
   ]
  },
  {
   "cell_type": "code",
   "execution_count": 42,
   "metadata": {},
   "outputs": [],
   "source": [
    "rfc = RandomForestClassifier(n_estimators=600)"
   ]
  },
  {
   "cell_type": "code",
   "execution_count": 43,
   "metadata": {},
   "outputs": [
    {
     "data": {
      "text/plain": [
       "RandomForestClassifier(n_estimators=600)"
      ]
     },
     "execution_count": 43,
     "metadata": {},
     "output_type": "execute_result"
    }
   ],
   "source": [
    "rfc.fit(X_train,y_train)"
   ]
  },
  {
   "cell_type": "markdown",
   "metadata": {},
   "source": [
    "## Predictions and Evaluation\n",
    "\n",
    "Let's predict off the y_test values and evaluate our model.\n",
    "\n",
    "** Predict the class of not.fully.paid for the X_test data.**"
   ]
  },
  {
   "cell_type": "code",
   "execution_count": 44,
   "metadata": {},
   "outputs": [],
   "source": [
    "predictions = rfc.predict(X_test)"
   ]
  },
  {
   "cell_type": "markdown",
   "metadata": {},
   "source": [
    "**Now create a classification report from the results**"
   ]
  },
  {
   "cell_type": "code",
   "execution_count": 45,
   "metadata": {},
   "outputs": [],
   "source": [
    "from sklearn.metrics import classification_report,confusion_matrix"
   ]
  },
  {
   "cell_type": "code",
   "execution_count": 46,
   "metadata": {},
   "outputs": [
    {
     "name": "stdout",
     "output_type": "stream",
     "text": [
      "              precision    recall  f1-score   support\n",
      "\n",
      "           0       1.00      1.00      1.00      1182\n",
      "           1       1.00      1.00      1.00        15\n",
      "\n",
      "    accuracy                           1.00      1197\n",
      "   macro avg       1.00      1.00      1.00      1197\n",
      "weighted avg       1.00      1.00      1.00      1197\n",
      "\n"
     ]
    }
   ],
   "source": [
    "print(classification_report(y_test,predictions))"
   ]
  },
  {
   "cell_type": "code",
   "execution_count": 47,
   "metadata": {},
   "outputs": [
    {
     "name": "stdout",
     "output_type": "stream",
     "text": [
      "[[1182    0]\n",
      " [   0   15]]\n"
     ]
    }
   ],
   "source": [
    "print(confusion_matrix(y_test,predictions))"
   ]
  },
  {
   "cell_type": "markdown",
   "metadata": {},
   "source": [
    "# LogMODEL\n",
    "\n",
    "Now it's time to do a train test split, and train for logmodel!"
   ]
  },
  {
   "cell_type": "code",
   "execution_count": 48,
   "metadata": {},
   "outputs": [],
   "source": [
    "from sklearn.datasets import make_classification\n",
    "from sklearn.linear_model import LogisticRegression\n",
    "from sklearn.model_selection import train_test_split\n",
    "from sklearn.pipeline import make_pipeline\n",
    "from sklearn.preprocessing import StandardScaler"
   ]
  },
  {
   "cell_type": "code",
   "execution_count": 49,
   "metadata": {},
   "outputs": [
    {
     "name": "stdout",
     "output_type": "stream",
     "text": [
      "<class 'pandas.core.frame.DataFrame'>\n",
      "Int64Index: 23940 entries, 0 to 23982\n",
      "Data columns (total 10 columns):\n",
      "Cocunut                23940 non-null int64\n",
      "Mortgage_YN            23940 non-null int32\n",
      "AGE                    23940 non-null int64\n",
      "YEARS_WITH_BANK        23940 non-null int64\n",
      "MARTIAL_STATUS         23940 non-null int32\n",
      "EDUCATION              23940 non-null int32\n",
      "EMPLOYMENT             23940 non-null int32\n",
      "GENDER                 23940 non-null int32\n",
      "CUST_INCOME            23940 non-null float64\n",
      "CURRENT_BALANCE_EUR    23940 non-null float64\n",
      "dtypes: float64(2), int32(5), int64(3)\n",
      "memory usage: 1.6 MB\n"
     ]
    }
   ],
   "source": [
    "LR=loans.drop(['CURRENT_WITH_BANK_DATE','CURRENT_JOB_DATE','CURRENT_ADDRESS_DATE'], axis=1)\n",
    "LR.info()"
   ]
  },
  {
   "cell_type": "code",
   "execution_count": 50,
   "metadata": {},
   "outputs": [
    {
     "data": {
      "text/html": [
       "<div>\n",
       "<style scoped>\n",
       "    .dataframe tbody tr th:only-of-type {\n",
       "        vertical-align: middle;\n",
       "    }\n",
       "\n",
       "    .dataframe tbody tr th {\n",
       "        vertical-align: top;\n",
       "    }\n",
       "\n",
       "    .dataframe thead th {\n",
       "        text-align: right;\n",
       "    }\n",
       "</style>\n",
       "<table border=\"1\" class=\"dataframe\">\n",
       "  <thead>\n",
       "    <tr style=\"text-align: right;\">\n",
       "      <th></th>\n",
       "      <th>Cocunut</th>\n",
       "      <th>Mortgage_YN</th>\n",
       "      <th>AGE</th>\n",
       "      <th>YEARS_WITH_BANK</th>\n",
       "      <th>MARTIAL_STATUS</th>\n",
       "      <th>EDUCATION</th>\n",
       "      <th>EMPLOYMENT</th>\n",
       "      <th>GENDER</th>\n",
       "      <th>CUST_INCOME</th>\n",
       "      <th>CURRENT_BALANCE_EUR</th>\n",
       "    </tr>\n",
       "  </thead>\n",
       "  <tbody>\n",
       "    <tr>\n",
       "      <td>0</td>\n",
       "      <td>1</td>\n",
       "      <td>1</td>\n",
       "      <td>52</td>\n",
       "      <td>13</td>\n",
       "      <td>0</td>\n",
       "      <td>0</td>\n",
       "      <td>0</td>\n",
       "      <td>1</td>\n",
       "      <td>909.501308</td>\n",
       "      <td>7648.350692</td>\n",
       "    </tr>\n",
       "    <tr>\n",
       "      <td>1</td>\n",
       "      <td>9</td>\n",
       "      <td>1</td>\n",
       "      <td>49</td>\n",
       "      <td>11</td>\n",
       "      <td>0</td>\n",
       "      <td>0</td>\n",
       "      <td>3</td>\n",
       "      <td>1</td>\n",
       "      <td>288.461539</td>\n",
       "      <td>30189.904920</td>\n",
       "    </tr>\n",
       "    <tr>\n",
       "      <td>2</td>\n",
       "      <td>11</td>\n",
       "      <td>1</td>\n",
       "      <td>55</td>\n",
       "      <td>14</td>\n",
       "      <td>0</td>\n",
       "      <td>1</td>\n",
       "      <td>1</td>\n",
       "      <td>1</td>\n",
       "      <td>1280.528692</td>\n",
       "      <td>50553.174540</td>\n",
       "    </tr>\n",
       "    <tr>\n",
       "      <td>3</td>\n",
       "      <td>12</td>\n",
       "      <td>1</td>\n",
       "      <td>66</td>\n",
       "      <td>10</td>\n",
       "      <td>0</td>\n",
       "      <td>1</td>\n",
       "      <td>4</td>\n",
       "      <td>0</td>\n",
       "      <td>620.959769</td>\n",
       "      <td>15907.283380</td>\n",
       "    </tr>\n",
       "    <tr>\n",
       "      <td>4</td>\n",
       "      <td>18</td>\n",
       "      <td>1</td>\n",
       "      <td>47</td>\n",
       "      <td>9</td>\n",
       "      <td>1</td>\n",
       "      <td>4</td>\n",
       "      <td>0</td>\n",
       "      <td>0</td>\n",
       "      <td>2239.853846</td>\n",
       "      <td>27916.192620</td>\n",
       "    </tr>\n",
       "  </tbody>\n",
       "</table>\n",
       "</div>"
      ],
      "text/plain": [
       "   Cocunut  Mortgage_YN  AGE  YEARS_WITH_BANK  MARTIAL_STATUS  EDUCATION  \\\n",
       "0        1            1   52               13               0          0   \n",
       "1        9            1   49               11               0          0   \n",
       "2       11            1   55               14               0          1   \n",
       "3       12            1   66               10               0          1   \n",
       "4       18            1   47                9               1          4   \n",
       "\n",
       "   EMPLOYMENT  GENDER  CUST_INCOME  CURRENT_BALANCE_EUR  \n",
       "0           0       1   909.501308          7648.350692  \n",
       "1           3       1   288.461539         30189.904920  \n",
       "2           1       1  1280.528692         50553.174540  \n",
       "3           4       0   620.959769         15907.283380  \n",
       "4           0       0  2239.853846         27916.192620  "
      ]
     },
     "execution_count": 50,
     "metadata": {},
     "output_type": "execute_result"
    }
   ],
   "source": [
    "LR.head()"
   ]
  },
  {
   "cell_type": "code",
   "execution_count": 51,
   "metadata": {},
   "outputs": [],
   "source": [
    "X = LR[['AGE', 'YEARS_WITH_BANK', 'MARTIAL_STATUS','EDUCATION', 'EMPLOYMENT','GENDER','CUST_INCOME','CURRENT_BALANCE_EUR','Cocunut']]\n",
    "y = LR['Mortgage_YN']"
   ]
  },
  {
   "cell_type": "code",
   "execution_count": 52,
   "metadata": {},
   "outputs": [
    {
     "data": {
      "text/html": [
       "<div>\n",
       "<style scoped>\n",
       "    .dataframe tbody tr th:only-of-type {\n",
       "        vertical-align: middle;\n",
       "    }\n",
       "\n",
       "    .dataframe tbody tr th {\n",
       "        vertical-align: top;\n",
       "    }\n",
       "\n",
       "    .dataframe thead th {\n",
       "        text-align: right;\n",
       "    }\n",
       "</style>\n",
       "<table border=\"1\" class=\"dataframe\">\n",
       "  <thead>\n",
       "    <tr style=\"text-align: right;\">\n",
       "      <th></th>\n",
       "      <th>AGE</th>\n",
       "      <th>YEARS_WITH_BANK</th>\n",
       "      <th>MARTIAL_STATUS</th>\n",
       "      <th>EDUCATION</th>\n",
       "      <th>EMPLOYMENT</th>\n",
       "      <th>GENDER</th>\n",
       "      <th>CUST_INCOME</th>\n",
       "      <th>CURRENT_BALANCE_EUR</th>\n",
       "      <th>Cocunut</th>\n",
       "    </tr>\n",
       "  </thead>\n",
       "  <tbody>\n",
       "    <tr>\n",
       "      <td>0</td>\n",
       "      <td>52</td>\n",
       "      <td>13</td>\n",
       "      <td>0</td>\n",
       "      <td>0</td>\n",
       "      <td>0</td>\n",
       "      <td>1</td>\n",
       "      <td>909.501308</td>\n",
       "      <td>7648.350692</td>\n",
       "      <td>1</td>\n",
       "    </tr>\n",
       "    <tr>\n",
       "      <td>1</td>\n",
       "      <td>49</td>\n",
       "      <td>11</td>\n",
       "      <td>0</td>\n",
       "      <td>0</td>\n",
       "      <td>3</td>\n",
       "      <td>1</td>\n",
       "      <td>288.461539</td>\n",
       "      <td>30189.904920</td>\n",
       "      <td>9</td>\n",
       "    </tr>\n",
       "    <tr>\n",
       "      <td>2</td>\n",
       "      <td>55</td>\n",
       "      <td>14</td>\n",
       "      <td>0</td>\n",
       "      <td>1</td>\n",
       "      <td>1</td>\n",
       "      <td>1</td>\n",
       "      <td>1280.528692</td>\n",
       "      <td>50553.174540</td>\n",
       "      <td>11</td>\n",
       "    </tr>\n",
       "    <tr>\n",
       "      <td>3</td>\n",
       "      <td>66</td>\n",
       "      <td>10</td>\n",
       "      <td>0</td>\n",
       "      <td>1</td>\n",
       "      <td>4</td>\n",
       "      <td>0</td>\n",
       "      <td>620.959769</td>\n",
       "      <td>15907.283380</td>\n",
       "      <td>12</td>\n",
       "    </tr>\n",
       "    <tr>\n",
       "      <td>4</td>\n",
       "      <td>47</td>\n",
       "      <td>9</td>\n",
       "      <td>1</td>\n",
       "      <td>4</td>\n",
       "      <td>0</td>\n",
       "      <td>0</td>\n",
       "      <td>2239.853846</td>\n",
       "      <td>27916.192620</td>\n",
       "      <td>18</td>\n",
       "    </tr>\n",
       "  </tbody>\n",
       "</table>\n",
       "</div>"
      ],
      "text/plain": [
       "   AGE  YEARS_WITH_BANK  MARTIAL_STATUS  EDUCATION  EMPLOYMENT  GENDER  \\\n",
       "0   52               13               0          0           0       1   \n",
       "1   49               11               0          0           3       1   \n",
       "2   55               14               0          1           1       1   \n",
       "3   66               10               0          1           4       0   \n",
       "4   47                9               1          4           0       0   \n",
       "\n",
       "   CUST_INCOME  CURRENT_BALANCE_EUR  Cocunut  \n",
       "0   909.501308          7648.350692        1  \n",
       "1   288.461539         30189.904920        9  \n",
       "2  1280.528692         50553.174540       11  \n",
       "3   620.959769         15907.283380       12  \n",
       "4  2239.853846         27916.192620       18  "
      ]
     },
     "execution_count": 52,
     "metadata": {},
     "output_type": "execute_result"
    }
   ],
   "source": [
    "X.head()"
   ]
  },
  {
   "cell_type": "markdown",
   "metadata": {},
   "source": [
    "** Train and fit a logistic regression model on the training set.**"
   ]
  },
  {
   "cell_type": "code",
   "execution_count": 53,
   "metadata": {},
   "outputs": [],
   "source": [
    "from sklearn.datasets import make_classification\n",
    "from sklearn.linear_model import LogisticRegression\n",
    "from sklearn.model_selection import train_test_split\n",
    "from sklearn.pipeline import make_pipeline\n",
    "from sklearn.preprocessing import StandardScaler"
   ]
  },
  {
   "cell_type": "code",
   "execution_count": 54,
   "metadata": {},
   "outputs": [
    {
     "data": {
      "text/plain": [
       "Pipeline(steps=[('standardscaler', StandardScaler()),\n",
       "                ('logisticregression', LogisticRegression())])"
      ]
     },
     "execution_count": 54,
     "metadata": {},
     "output_type": "execute_result"
    }
   ],
   "source": [
    "X, y = make_classification(random_state=42)\n",
    "X_train, X_test, y_train, y_test = train_test_split(X, y, random_state=42)\n",
    "logmodel = make_pipeline(StandardScaler(), LogisticRegression())\n",
    "logmodel.fit(X_train, y_train) "
   ]
  },
  {
   "cell_type": "markdown",
   "metadata": {},
   "source": [
    "## Predictions and Evaluations\n",
    "** Now predict values for the testing data.**"
   ]
  },
  {
   "cell_type": "code",
   "execution_count": 55,
   "metadata": {},
   "outputs": [],
   "source": [
    "predictions = logmodel.predict(X_test)"
   ]
  },
  {
   "cell_type": "code",
   "execution_count": 56,
   "metadata": {},
   "outputs": [],
   "source": [
    "from sklearn.metrics import classification_report"
   ]
  },
  {
   "cell_type": "code",
   "execution_count": 57,
   "metadata": {},
   "outputs": [
    {
     "name": "stdout",
     "output_type": "stream",
     "text": [
      "              precision    recall  f1-score   support\n",
      "\n",
      "           0       1.00      0.93      0.97        15\n",
      "           1       0.91      1.00      0.95        10\n",
      "\n",
      "    accuracy                           0.96        25\n",
      "   macro avg       0.95      0.97      0.96        25\n",
      "weighted avg       0.96      0.96      0.96        25\n",
      "\n"
     ]
    }
   ],
   "source": [
    "print(classification_report(y_test,predictions))"
   ]
  },
  {
   "cell_type": "markdown",
   "metadata": {},
   "source": [
    "## CONCLUSION: Logmodel is the best for this data"
   ]
  },
  {
   "cell_type": "code",
   "execution_count": null,
   "metadata": {},
   "outputs": [],
   "source": []
  }
 ],
 "metadata": {
  "kernelspec": {
   "display_name": "Python 3",
   "language": "python",
   "name": "python3"
  },
  "language_info": {
   "codemirror_mode": {
    "name": "ipython",
    "version": 3
   },
   "file_extension": ".py",
   "mimetype": "text/x-python",
   "name": "python",
   "nbconvert_exporter": "python",
   "pygments_lexer": "ipython3",
   "version": "3.7.4"
  }
 },
 "nbformat": 4,
 "nbformat_minor": 2
}
